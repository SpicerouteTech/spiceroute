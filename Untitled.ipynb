{
 "cells": [
  {
   "cell_type": "code",
   "execution_count": 1,
   "metadata": {},
   "outputs": [
    {
     "data": {
      "text/plain": [
       "2"
      ]
     },
     "execution_count": 1,
     "metadata": {},
     "output_type": "execute_result"
    }
   ],
   "source": [
    "1+1"
   ]
  },
  {
   "cell_type": "code",
   "execution_count": 2,
   "metadata": {},
   "outputs": [
    {
     "name": "stdout",
     "output_type": "stream",
     "text": [
      "hello world\n"
     ]
    }
   ],
   "source": [
    "print (\"hello world\")"
   ]
  },
  {
   "cell_type": "code",
   "execution_count": 8,
   "metadata": {},
   "outputs": [
    {
     "name": "stdout",
     "output_type": "stream",
     "text": [
      "0\n",
      "----\n",
      "[3, 4, 2, 3]\n",
      "***\n",
      "888\n",
      "[3, 4, 2, 3]\n",
      "[3, 4, 2, 3]\n",
      "888\n",
      "[4, 4, 2, 3]\n",
      "[4, 4, 2, 3]\n",
      "888\n",
      "[4, 2, 2, 3]\n",
      "[4, 2, 2, 3]\n",
      "888\n",
      "[4, 2, 3, 3]\n",
      "[4, 2, 3, 3]\n",
      "1\n",
      "----\n",
      "[4, 2, 3, 4]\n",
      "***\n",
      "888\n",
      "[4, 2, 3, 4]\n",
      "[4, 2, 3, 4]\n",
      "888\n",
      "[2, 2, 3, 4]\n",
      "[2, 2, 3, 4]\n",
      "888\n",
      "[2, 3, 3, 4]\n",
      "[2, 3, 3, 4]\n",
      "888\n",
      "[2, 3, 4, 4]\n",
      "[2, 3, 4, 4]\n",
      "***\n",
      "888\n",
      "[2, 3, 4, 2]\n",
      "[2, 3, 4, 2]\n",
      "888\n",
      "[3, 3, 4, 2]\n",
      "[3, 3, 4, 2]\n",
      "888\n",
      "[3, 4, 4, 2]\n",
      "[3, 4, 4, 2]\n",
      "888\n",
      "[3, 4, 2, 2]\n",
      "[3, 4, 2, 2]\n",
      "2\n",
      "----\n",
      "[3, 4, 2, 3]\n",
      "***\n",
      "888\n",
      "[3, 4, 2, 3]\n",
      "[3, 4, 2, 3]\n",
      "888\n",
      "[4, 4, 2, 3]\n",
      "[4, 4, 2, 3]\n",
      "888\n",
      "[4, 2, 2, 3]\n",
      "[4, 2, 2, 3]\n",
      "888\n",
      "[4, 2, 3, 3]\n",
      "[4, 2, 3, 3]\n",
      "***\n",
      "888\n",
      "[4, 2, 3, 4]\n",
      "[4, 2, 3, 4]\n",
      "888\n",
      "[2, 2, 3, 4]\n",
      "[2, 2, 3, 4]\n",
      "888\n",
      "[2, 3, 3, 4]\n",
      "[2, 3, 3, 4]\n",
      "888\n",
      "[2, 3, 4, 4]\n",
      "[2, 3, 4, 4]\n",
      "***\n",
      "888\n",
      "[2, 3, 4, 2]\n",
      "[2, 3, 4, 2]\n",
      "888\n",
      "[3, 3, 4, 2]\n",
      "[3, 3, 4, 2]\n",
      "888\n",
      "[3, 4, 4, 2]\n",
      "[3, 4, 4, 2]\n",
      "888\n",
      "[3, 4, 2, 2]\n",
      "[3, 4, 2, 2]\n"
     ]
    }
   ],
   "source": [
    "a = [1,2,3,4]\n",
    "\n",
    "rotate = [1,2,3]\n",
    "\n",
    "\n",
    "#c = a\n",
    "\n",
    "#b = [ _ for _ in range(1,len(a)+1)]\n",
    "e=0\n",
    "while e < len(rotate):\n",
    "\n",
    "    print ( e)\n",
    "   \n",
    "    \n",
    "\n",
    "    print(\"----\")\n",
    "\n",
    "    print(c)\n",
    "\n",
    "    while x < rotate[e]:\n",
    "\n",
    "\n",
    "        _ = 0\n",
    "\n",
    "        print(\"***\")\n",
    "\n",
    "        while _ <= len(a)-1:\n",
    "\n",
    "            print(\"888\")\n",
    "\n",
    "            print(c)\n",
    "\n",
    "            print(b)\n",
    "\n",
    "            if _ == len(a)-1:\n",
    "\n",
    "                b[_] = c[0]\n",
    "\n",
    "            else:\n",
    "\n",
    "                b[_] = c[_+1]\n",
    "\n",
    "            _ += 1\n",
    "\n",
    "           \n",
    "\n",
    "        x += 1\n",
    "\n",
    "#        print(b)\n",
    "\n",
    "       \n",
    "\n",
    "    e += 1\n",
    "\n",
    "    y = 0\n",
    "\n",
    "   \n",
    "\n"
   ]
  },
  {
   "cell_type": "raw",
   "metadata": {},
   "source": []
  },
  {
   "cell_type": "code",
   "execution_count": 19,
   "metadata": {},
   "outputs": [
    {
     "name": "stdout",
     "output_type": "stream",
     "text": [
      "2 3 4 5 6 7 1 ---\n",
      "3 4 5 6 7 1 2 ---\n",
      "4 5 6 7 1 2 3 ---\n",
      "5 6 7 1 2 3 4 ---\n",
      "6 7 1 2 3 4 5 ---\n",
      "7 1 2 3 4 5 6 ---\n",
      "1 2 3 4 5 6 7 ---\n"
     ]
    }
   ],
   "source": [
    "#Function to left rotate arr[] of size n by d*/ \n",
    "def leftRotate(arr, d, n): \n",
    "    for i in range(d): \n",
    "        leftRotatebyOne(arr, n) \n",
    "  \n",
    "#Function to left Rotate arr[] of size n by 1*/  \n",
    "def leftRotatebyOne(arr, n): \n",
    "    temp = arr[0] \n",
    "    for i in range(n-1): \n",
    "        arr[i] = arr[i+1] \n",
    "    arr[n-1] = temp \n",
    "          \n",
    "  \n",
    "# utility function to print an array */ \n",
    "def printArray(arr,size): \n",
    "    for i in range(size): \n",
    "        print (\"%d\"% arr[i],end=\" \") \n",
    "  \n",
    "   \n",
    "# Driver program to test above functions */ \n",
    "arr = [1, 2, 3, 4, 5, 6, 7]\n",
    "for i in range(7):\n",
    "    leftRotate(arr, 1, 7) \n",
    "    printArray(arr, 7) \n",
    "    print (\"---\")"
   ]
  },
  {
   "cell_type": "code",
   "execution_count": null,
   "metadata": {},
   "outputs": [],
   "source": []
  }
 ],
 "metadata": {
  "kernelspec": {
   "display_name": "Python 3",
   "language": "python",
   "name": "python3"
  },
  "language_info": {
   "codemirror_mode": {
    "name": "ipython",
    "version": 3
   },
   "file_extension": ".py",
   "mimetype": "text/x-python",
   "name": "python",
   "nbconvert_exporter": "python",
   "pygments_lexer": "ipython3",
   "version": "3.8.1"
  }
 },
 "nbformat": 4,
 "nbformat_minor": 4
}
